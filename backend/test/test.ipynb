{
 "cells": [
  {
   "cell_type": "markdown",
   "id": "e44c99a6",
   "metadata": {},
   "source": [
    "## Usage\n",
    "\n",
    "Lagent 受到 PyTorch 设计理念的启发。我们期望，与神经网络层的类比能让工作流程更清晰、更直观，这样用户只需专注于以 Python 风格创建层并定义它们之间的消息传递。这是一个简单的教程，能让你快速上手构建多智能体应用程序。 "
   ]
  },
  {
   "cell_type": "markdown",
   "id": "b5b6a1c9",
   "metadata": {},
   "source": [
    "### Model as Agents \n",
    "\n",
    "Agents use AgentMessage for communication."
   ]
  },
  {
   "cell_type": "code",
   "execution_count": 4,
   "id": "7b34f6c5",
   "metadata": {},
   "outputs": [
    {
     "ename": "ModuleNotFoundError",
     "evalue": "No module named 'vllm'",
     "output_type": "error",
     "traceback": [
      "\u001b[31m---------------------------------------------------------------------------\u001b[39m",
      "\u001b[31mModuleNotFoundError\u001b[39m                       Traceback (most recent call last)",
      "\u001b[36mCell\u001b[39m\u001b[36m \u001b[39m\u001b[32mIn[4]\u001b[39m\u001b[32m, line 6\u001b[39m\n\u001b[32m      3\u001b[39m \u001b[38;5;28;01mfrom\u001b[39;00m\u001b[38;5;250m \u001b[39m\u001b[34;01mlagent\u001b[39;00m\u001b[34;01m.\u001b[39;00m\u001b[34;01mschema\u001b[39;00m\u001b[38;5;250m \u001b[39m\u001b[38;5;28;01mimport\u001b[39;00m AgentMessage\n\u001b[32m      4\u001b[39m \u001b[38;5;28;01mfrom\u001b[39;00m\u001b[38;5;250m \u001b[39m\u001b[34;01mlagent\u001b[39;00m\u001b[34;01m.\u001b[39;00m\u001b[34;01mllms\u001b[39;00m\u001b[38;5;250m \u001b[39m\u001b[38;5;28;01mimport\u001b[39;00m VllmModel, INTERNLM2_META\n\u001b[32m----> \u001b[39m\u001b[32m6\u001b[39m llm = \u001b[43mVllmModel\u001b[49m\u001b[43m(\u001b[49m\n\u001b[32m      7\u001b[39m \u001b[43m    \u001b[49m\u001b[43mpath\u001b[49m\u001b[43m=\u001b[49m\u001b[33;43m\"\u001b[39;49m\u001b[33;43mQwen/Qwen3-0.6B\u001b[39;49m\u001b[33;43m\"\u001b[39;49m\u001b[43m,\u001b[49m\u001b[43m \u001b[49m\n\u001b[32m      8\u001b[39m \u001b[43m    \u001b[49m\u001b[43mmeta_template\u001b[49m\u001b[43m=\u001b[49m\u001b[43mINTERNLM2_META\u001b[49m\u001b[43m,\u001b[49m\n\u001b[32m      9\u001b[39m \u001b[43m    \u001b[49m\u001b[43mtp\u001b[49m\u001b[43m=\u001b[49m\u001b[32;43m1\u001b[39;49m\u001b[43m,\u001b[49m\u001b[43m \u001b[49m\n\u001b[32m     10\u001b[39m \u001b[43m    \u001b[49m\u001b[43mtop_k\u001b[49m\u001b[43m=\u001b[49m\u001b[32;43m1\u001b[39;49m\u001b[43m,\u001b[49m\n\u001b[32m     11\u001b[39m \u001b[43m    \u001b[49m\u001b[43mtemperature\u001b[49m\u001b[43m=\u001b[49m\u001b[32;43m1.0\u001b[39;49m\u001b[43m,\u001b[49m\u001b[43m \u001b[49m\n\u001b[32m     12\u001b[39m \u001b[43m    \u001b[49m\u001b[43mstop_words\u001b[49m\u001b[43m=\u001b[49m\u001b[43m[\u001b[49m\u001b[33;43m'\u001b[39;49m\u001b[33;43m<|im_end|>\u001b[39;49m\u001b[33;43m'\u001b[39;49m\u001b[43m]\u001b[49m\u001b[43m,\u001b[49m\u001b[43m \u001b[49m\n\u001b[32m     13\u001b[39m \u001b[43m    \u001b[49m\u001b[43mmax_new_tokens\u001b[49m\u001b[43m=\u001b[49m\u001b[32;43m1024\u001b[39;49m\n\u001b[32m     14\u001b[39m \u001b[43m)\u001b[49m\n\u001b[32m     16\u001b[39m system_prompt = \u001b[33m'\u001b[39m\u001b[33m你的回答只能从“典”、“孝”、“急”三个字中选一个。\u001b[39m\u001b[33m'\u001b[39m\n\u001b[32m     17\u001b[39m agent = Agent(llm, system_prompt)\n",
      "\u001b[36mFile \u001b[39m\u001b[32md:\\Demo\\mindsearch-langraph\\backend\\.venv\\Lib\\site-packages\\lagent\\llms\\vllm_wrapper.py:37\u001b[39m, in \u001b[36mVllmModel.__init__\u001b[39m\u001b[34m(self, path, tp, vllm_cfg, **kwargs)\u001b[39m\n\u001b[32m     34\u001b[39m \u001b[38;5;28;01mdef\u001b[39;00m\u001b[38;5;250m \u001b[39m\u001b[34m__init__\u001b[39m(\u001b[38;5;28mself\u001b[39m, path: \u001b[38;5;28mstr\u001b[39m, tp: \u001b[38;5;28mint\u001b[39m = \u001b[32m1\u001b[39m, vllm_cfg=\u001b[38;5;28mdict\u001b[39m(), **kwargs):\n\u001b[32m     36\u001b[39m     \u001b[38;5;28msuper\u001b[39m().\u001b[34m__init__\u001b[39m(path=path, **kwargs)\n\u001b[32m---> \u001b[39m\u001b[32m37\u001b[39m     \u001b[38;5;28;01mfrom\u001b[39;00m\u001b[38;5;250m \u001b[39m\u001b[34;01mvllm\u001b[39;00m\u001b[38;5;250m \u001b[39m\u001b[38;5;28;01mimport\u001b[39;00m LLM\n\u001b[32m     38\u001b[39m     \u001b[38;5;28mself\u001b[39m.model = LLM(\n\u001b[32m     39\u001b[39m         model=\u001b[38;5;28mself\u001b[39m.path,\n\u001b[32m     40\u001b[39m         trust_remote_code=\u001b[38;5;28;01mTrue\u001b[39;00m,\n\u001b[32m     41\u001b[39m         tensor_parallel_size=tp,\n\u001b[32m     42\u001b[39m         **vllm_cfg)\n",
      "\u001b[31mModuleNotFoundError\u001b[39m: No module named 'vllm'"
     ]
    }
   ],
   "source": [
    "from typing import Dict, List \n",
    "from lagent.agents import Agent\n",
    "from lagent.schema import AgentMessage\n",
    "from lagent.llms import VllmModel, INTERNLM2_META\n",
    "\n",
    "llm = VllmModel(\n",
    "    path=\"Qwen/Qwen3-0.6B\", \n",
    "    meta_template=INTERNLM2_META,\n",
    "    tp=1, \n",
    "    top_k=1,\n",
    "    temperature=1.0, \n",
    "    stop_words=['<|im_end|>'], \n",
    "    max_new_tokens=1024\n",
    ")\n",
    "\n",
    "system_prompt = '你的回答只能从“典”、“孝”、“急”三个字中选一个。'\n",
    "agent = Agent(llm, system_prompt)\n",
    "\n",
    "user_msg = AgentMessage(sender='user', content='今天天气情况')\n",
    "bot_msg = agent(user_msg)\n",
    "print(bot_msg)"
   ]
  },
  {
   "cell_type": "code",
   "execution_count": null,
   "id": "939c7e8a",
   "metadata": {},
   "outputs": [],
   "source": []
  },
  {
   "cell_type": "markdown",
   "id": "9853f441",
   "metadata": {},
   "source": []
  }
 ],
 "metadata": {
  "kernelspec": {
   "display_name": ".venv",
   "language": "python",
   "name": "python3"
  },
  "language_info": {
   "codemirror_mode": {
    "name": "ipython",
    "version": 3
   },
   "file_extension": ".py",
   "mimetype": "text/x-python",
   "name": "python",
   "nbconvert_exporter": "python",
   "pygments_lexer": "ipython3",
   "version": "3.12.8"
  }
 },
 "nbformat": 4,
 "nbformat_minor": 5
}
